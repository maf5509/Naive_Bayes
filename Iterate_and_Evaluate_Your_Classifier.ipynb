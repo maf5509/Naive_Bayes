{
 "cells": [
  {
   "cell_type": "code",
   "execution_count": 48,
   "metadata": {
    "collapsed": true
   },
   "outputs": [],
   "source": [
    "%matplotlib inline\n",
    "import numpy as np\n",
    "import pandas as pd\n",
    "import math\n",
    "import matplotlib.pyplot as plt\n",
    "import seaborn as sns\n",
    "import scipy\n",
    "import sklearn"
   ]
  },
  {
   "cell_type": "markdown",
   "metadata": {},
   "source": [
    "## Preliminary Data Management"
   ]
  },
  {
   "cell_type": "code",
   "execution_count": 49,
   "metadata": {
    "collapsed": true,
    "scrolled": true
   },
   "outputs": [],
   "source": [
    "imdb = pd.read_table('C://Users//fergu//sentiment_labelled_sentences//imdb_labelled.txt', header=None)"
   ]
  },
  {
   "cell_type": "code",
   "execution_count": 50,
   "metadata": {
    "collapsed": true
   },
   "outputs": [],
   "source": [
    "imdb.columns=['comment', 'score']"
   ]
  },
  {
   "cell_type": "code",
   "execution_count": 51,
   "metadata": {},
   "outputs": [
    {
     "data": {
      "text/plain": [
       "(748, 2)"
      ]
     },
     "execution_count": 51,
     "metadata": {},
     "output_type": "execute_result"
    }
   ],
   "source": [
    "imdb.shape"
   ]
  },
  {
   "cell_type": "code",
   "execution_count": 52,
   "metadata": {},
   "outputs": [
    {
     "data": {
      "text/html": [
       "<div>\n",
       "<style>\n",
       "    .dataframe thead tr:only-child th {\n",
       "        text-align: right;\n",
       "    }\n",
       "\n",
       "    .dataframe thead th {\n",
       "        text-align: left;\n",
       "    }\n",
       "\n",
       "    .dataframe tbody tr th {\n",
       "        vertical-align: top;\n",
       "    }\n",
       "</style>\n",
       "<table border=\"1\" class=\"dataframe\">\n",
       "  <thead>\n",
       "    <tr style=\"text-align: right;\">\n",
       "      <th></th>\n",
       "      <th>comment</th>\n",
       "      <th>score</th>\n",
       "    </tr>\n",
       "  </thead>\n",
       "  <tbody>\n",
       "    <tr>\n",
       "      <th>0</th>\n",
       "      <td>A very, very, very slow-moving, aimless movie ...</td>\n",
       "      <td>0</td>\n",
       "    </tr>\n",
       "    <tr>\n",
       "      <th>1</th>\n",
       "      <td>Not sure who was more lost - the flat characte...</td>\n",
       "      <td>0</td>\n",
       "    </tr>\n",
       "    <tr>\n",
       "      <th>2</th>\n",
       "      <td>Attempting artiness with black &amp; white and cle...</td>\n",
       "      <td>0</td>\n",
       "    </tr>\n",
       "    <tr>\n",
       "      <th>3</th>\n",
       "      <td>Very little music or anything to speak of.</td>\n",
       "      <td>0</td>\n",
       "    </tr>\n",
       "    <tr>\n",
       "      <th>4</th>\n",
       "      <td>The best scene in the movie was when Gerardo i...</td>\n",
       "      <td>1</td>\n",
       "    </tr>\n",
       "  </tbody>\n",
       "</table>\n",
       "</div>"
      ],
      "text/plain": [
       "                                             comment  score\n",
       "0  A very, very, very slow-moving, aimless movie ...      0\n",
       "1  Not sure who was more lost - the flat characte...      0\n",
       "2  Attempting artiness with black & white and cle...      0\n",
       "3       Very little music or anything to speak of.        0\n",
       "4  The best scene in the movie was when Gerardo i...      1"
      ]
     },
     "execution_count": 52,
     "metadata": {},
     "output_type": "execute_result"
    }
   ],
   "source": [
    "imdb.head()"
   ]
  },
  {
   "cell_type": "markdown",
   "metadata": {},
   "source": [
    "## Select Words for Use In Classifier\n",
    "\n",
    "Starting dataset chosen this time: 'IMDB'. The words selected were adjectives that would positively describe a movie review, such as 'great', awesome', 'excellent', etc."
   ]
  },
  {
   "cell_type": "code",
   "execution_count": 53,
   "metadata": {
    "collapsed": true
   },
   "outputs": [],
   "source": [
    "#gallery = [words, words2, words3, words4]\n",
    "\n",
    "\n",
    "wordsss = ['great', 'funny', 'awesome', 'realistic', 'fantastic', 'loved', \n",
    "         'good', 'amazing', 'excellent', 'really good', 'splendid', 'best', \n",
    "         'outstanding', 'super', 'beautiful', 'superb', 'brilliant',  \n",
    "         'realistic', 'well']\n",
    "\n",
    "wordsw = ['tense', 'thrilling', 'sweet', 'powerful', 'enjoyed','cried', \n",
    "          'tears', 'scary', 'charming', 'hilarious', 'impressed', 'hooked', \n",
    "          'like', 'interesting', 'suspense', 'entertaining', 'riveting', \n",
    "          'deep', 'action', 'romantic']\n",
    "\n",
    "words = ['great', 'funny', 'awesome', 'realistic', 'fantastic', 'loved', \n",
    "         'good', 'amazing', 'excellent', 'really good', 'splendid', 'best', \n",
    "         'outstanding', 'super', 'beautiful', 'superb', 'brilliant',  \n",
    "         'realistic', 'well', 'tense', 'thrilling', 'sweet', 'powerful', 'enjoyed','cried', \n",
    "          'tears', 'scary', 'charming', 'hilarious', 'impressed', 'hooked', \n",
    "          'like', 'interesting', 'suspense', 'entertaining', 'riveting', \n",
    "          'deep', 'action', 'romantic']\n",
    "\n",
    "wordse = ['ok', 'okay', 'bad', 'badly', 'waste', 'poor', 'predictable',\n",
    "          'weak', 'boring', 'mediocre', 'slow', 'average', 'meh', \n",
    "          'yawn']\n",
    "    \n",
    "wordsd = ['suck', 'terrible', 'horrible', 'awful', 'worst', 'nasty',  \n",
    "          'disgusting', 'hated', 'drivel', 'trash', 'crap', 'garbage']\n",
    "\n",
    "wordsa = ['ok', 'okay', 'bad', 'badly', 'waste', 'poor', 'predictable',\n",
    "          'weak', 'boring', 'mediocre', 'slow', 'average', 'meh', \n",
    "          'yawn', 'suck', 'terrible', 'horrible', 'awful', 'worst', 'nasty',  \n",
    "          'disgusting', 'hated', 'drivel', 'trash', 'crap', 'garbage']\n",
    "\n",
    "wordsk = ['great', 'funny', 'awesome', 'realistic', 'fantastic', 'loved', \n",
    "         'good', 'amazing', 'excellent', 'really good', 'splendid', 'best', \n",
    "         'outstanding', 'super', 'beautiful', 'superb', 'brilliant',  \n",
    "         'realistic', 'well', 'tense', 'thrilling', 'sweet', 'powerful', 'enjoyed','cried', \n",
    "          'tears', 'scary', 'charming', 'hilarious', 'impressed', 'hooked', \n",
    "          'like', 'interesting', 'suspense', 'entertaining', 'riveting', \n",
    "          'deep', 'action', 'romantic', 'ok', 'okay', 'bad', 'badly', 'waste', 'poor', 'predictable',\n",
    "          'weak', 'boring', 'mediocre', 'slow', 'average', 'meh', \n",
    "          'yawn', 'suck', 'terrible', 'horrible', 'awful', 'worst', 'nasty',  \n",
    "          'disgusting', 'hated', 'drivel', 'trash', 'crap', 'garbage']"
   ]
  },
  {
   "cell_type": "code",
   "execution_count": 54,
   "metadata": {
    "collapsed": true
   },
   "outputs": [],
   "source": [
    "#len(wordsz)"
   ]
  },
  {
   "cell_type": "markdown",
   "metadata": {},
   "source": [
    "## Create Table of Boolean Columns and convert Score to Boolean"
   ]
  },
  {
   "cell_type": "code",
   "execution_count": 55,
   "metadata": {
    "collapsed": true
   },
   "outputs": [],
   "source": [
    "for word in words:\n",
    "    imdb[word] = [True if word.lower() in imdb['comment'][j].lower() else False for j in range(0, len(imdb['comment']))]"
   ]
  },
  {
   "cell_type": "code",
   "execution_count": 56,
   "metadata": {
    "collapsed": true
   },
   "outputs": [],
   "source": [
    "# Alternative model for the negative words:\n",
    "\n",
    "#for word in words:\n",
    "#    imdb[word] = [True if word.lower() not in imdb['comment'][j].lower() else False for j in range(0, len(imdb['comment']))]"
   ]
  },
  {
   "cell_type": "code",
   "execution_count": 57,
   "metadata": {
    "collapsed": true
   },
   "outputs": [],
   "source": [
    "#for word in words:\n",
    "#    imdb[word] = [True if word.lower() in imdb['comment'][j].lower() or wordelse False for j in range(0, len(imdb['comment']))]\n",
    "\n",
    "#for word in words:\n",
    "#    imdb[word] = None\n",
    "#    if words.index(word) <= 38:\n",
    "#               for j in range(0, len(imdb['comment'])):\n",
    "#                    if word.lower() in imdb['comment'][j].lower():\n",
    "#                        imdb[words[i]][j] = True\n",
    "#                    else:\n",
    "#                        imdb[word][j] = False\n",
    "#    else:\n",
    "#               for j in range(0, len(imdb['comment'])):\n",
    "#                    if word.lower() not in imdb['comment'][j].lower():\n",
    "#                        imdb[word][j] = True\n",
    "#                    else:\n",
    "#                        imdb[word][j] = False'''\n",
    "                        "
   ]
  },
  {
   "cell_type": "code",
   "execution_count": 58,
   "metadata": {
    "collapsed": true
   },
   "outputs": [],
   "source": [
    "imdb['score'] = [True if imdb['score'][i] == 1 else False for i in range(0, len(imdb['score']))]"
   ]
  },
  {
   "cell_type": "code",
   "execution_count": 59,
   "metadata": {},
   "outputs": [
    {
     "data": {
      "text/html": [
       "<div>\n",
       "<style>\n",
       "    .dataframe thead tr:only-child th {\n",
       "        text-align: right;\n",
       "    }\n",
       "\n",
       "    .dataframe thead th {\n",
       "        text-align: left;\n",
       "    }\n",
       "\n",
       "    .dataframe tbody tr th {\n",
       "        vertical-align: top;\n",
       "    }\n",
       "</style>\n",
       "<table border=\"1\" class=\"dataframe\">\n",
       "  <thead>\n",
       "    <tr style=\"text-align: right;\">\n",
       "      <th></th>\n",
       "      <th>comment</th>\n",
       "      <th>score</th>\n",
       "      <th>great</th>\n",
       "      <th>funny</th>\n",
       "      <th>awesome</th>\n",
       "      <th>realistic</th>\n",
       "      <th>fantastic</th>\n",
       "      <th>loved</th>\n",
       "      <th>good</th>\n",
       "      <th>amazing</th>\n",
       "      <th>...</th>\n",
       "      <th>impressed</th>\n",
       "      <th>hooked</th>\n",
       "      <th>like</th>\n",
       "      <th>interesting</th>\n",
       "      <th>suspense</th>\n",
       "      <th>entertaining</th>\n",
       "      <th>riveting</th>\n",
       "      <th>deep</th>\n",
       "      <th>action</th>\n",
       "      <th>romantic</th>\n",
       "    </tr>\n",
       "  </thead>\n",
       "  <tbody>\n",
       "    <tr>\n",
       "      <th>0</th>\n",
       "      <td>A very, very, very slow-moving, aimless movie ...</td>\n",
       "      <td>False</td>\n",
       "      <td>False</td>\n",
       "      <td>False</td>\n",
       "      <td>False</td>\n",
       "      <td>False</td>\n",
       "      <td>False</td>\n",
       "      <td>False</td>\n",
       "      <td>False</td>\n",
       "      <td>False</td>\n",
       "      <td>...</td>\n",
       "      <td>False</td>\n",
       "      <td>False</td>\n",
       "      <td>False</td>\n",
       "      <td>False</td>\n",
       "      <td>False</td>\n",
       "      <td>False</td>\n",
       "      <td>False</td>\n",
       "      <td>False</td>\n",
       "      <td>False</td>\n",
       "      <td>False</td>\n",
       "    </tr>\n",
       "    <tr>\n",
       "      <th>1</th>\n",
       "      <td>Not sure who was more lost - the flat characte...</td>\n",
       "      <td>False</td>\n",
       "      <td>False</td>\n",
       "      <td>False</td>\n",
       "      <td>False</td>\n",
       "      <td>False</td>\n",
       "      <td>False</td>\n",
       "      <td>False</td>\n",
       "      <td>False</td>\n",
       "      <td>False</td>\n",
       "      <td>...</td>\n",
       "      <td>False</td>\n",
       "      <td>False</td>\n",
       "      <td>False</td>\n",
       "      <td>False</td>\n",
       "      <td>False</td>\n",
       "      <td>False</td>\n",
       "      <td>False</td>\n",
       "      <td>False</td>\n",
       "      <td>False</td>\n",
       "      <td>False</td>\n",
       "    </tr>\n",
       "    <tr>\n",
       "      <th>2</th>\n",
       "      <td>Attempting artiness with black &amp; white and cle...</td>\n",
       "      <td>False</td>\n",
       "      <td>False</td>\n",
       "      <td>False</td>\n",
       "      <td>False</td>\n",
       "      <td>False</td>\n",
       "      <td>False</td>\n",
       "      <td>False</td>\n",
       "      <td>False</td>\n",
       "      <td>False</td>\n",
       "      <td>...</td>\n",
       "      <td>False</td>\n",
       "      <td>False</td>\n",
       "      <td>False</td>\n",
       "      <td>False</td>\n",
       "      <td>False</td>\n",
       "      <td>False</td>\n",
       "      <td>False</td>\n",
       "      <td>False</td>\n",
       "      <td>False</td>\n",
       "      <td>False</td>\n",
       "    </tr>\n",
       "    <tr>\n",
       "      <th>3</th>\n",
       "      <td>Very little music or anything to speak of.</td>\n",
       "      <td>False</td>\n",
       "      <td>False</td>\n",
       "      <td>False</td>\n",
       "      <td>False</td>\n",
       "      <td>False</td>\n",
       "      <td>False</td>\n",
       "      <td>False</td>\n",
       "      <td>False</td>\n",
       "      <td>False</td>\n",
       "      <td>...</td>\n",
       "      <td>False</td>\n",
       "      <td>False</td>\n",
       "      <td>False</td>\n",
       "      <td>False</td>\n",
       "      <td>False</td>\n",
       "      <td>False</td>\n",
       "      <td>False</td>\n",
       "      <td>False</td>\n",
       "      <td>False</td>\n",
       "      <td>False</td>\n",
       "    </tr>\n",
       "    <tr>\n",
       "      <th>4</th>\n",
       "      <td>The best scene in the movie was when Gerardo i...</td>\n",
       "      <td>True</td>\n",
       "      <td>False</td>\n",
       "      <td>False</td>\n",
       "      <td>False</td>\n",
       "      <td>False</td>\n",
       "      <td>False</td>\n",
       "      <td>False</td>\n",
       "      <td>False</td>\n",
       "      <td>False</td>\n",
       "      <td>...</td>\n",
       "      <td>False</td>\n",
       "      <td>False</td>\n",
       "      <td>False</td>\n",
       "      <td>False</td>\n",
       "      <td>False</td>\n",
       "      <td>False</td>\n",
       "      <td>False</td>\n",
       "      <td>False</td>\n",
       "      <td>False</td>\n",
       "      <td>False</td>\n",
       "    </tr>\n",
       "  </tbody>\n",
       "</table>\n",
       "<p>5 rows × 40 columns</p>\n",
       "</div>"
      ],
      "text/plain": [
       "                                             comment  score  great  funny  \\\n",
       "0  A very, very, very slow-moving, aimless movie ...  False  False  False   \n",
       "1  Not sure who was more lost - the flat characte...  False  False  False   \n",
       "2  Attempting artiness with black & white and cle...  False  False  False   \n",
       "3       Very little music or anything to speak of.    False  False  False   \n",
       "4  The best scene in the movie was when Gerardo i...   True  False  False   \n",
       "\n",
       "   awesome  realistic  fantastic  loved   good  amazing    ...     impressed  \\\n",
       "0    False      False      False  False  False    False    ...         False   \n",
       "1    False      False      False  False  False    False    ...         False   \n",
       "2    False      False      False  False  False    False    ...         False   \n",
       "3    False      False      False  False  False    False    ...         False   \n",
       "4    False      False      False  False  False    False    ...         False   \n",
       "\n",
       "   hooked   like  interesting  suspense  entertaining  riveting   deep  \\\n",
       "0   False  False        False     False         False     False  False   \n",
       "1   False  False        False     False         False     False  False   \n",
       "2   False  False        False     False         False     False  False   \n",
       "3   False  False        False     False         False     False  False   \n",
       "4   False  False        False     False         False     False  False   \n",
       "\n",
       "   action  romantic  \n",
       "0   False     False  \n",
       "1   False     False  \n",
       "2   False     False  \n",
       "3   False     False  \n",
       "4   False     False  \n",
       "\n",
       "[5 rows x 40 columns]"
      ]
     },
     "execution_count": 59,
     "metadata": {},
     "output_type": "execute_result"
    }
   ],
   "source": [
    "imdb.head()"
   ]
  },
  {
   "cell_type": "markdown",
   "metadata": {},
   "source": [
    "## Heatmap of DataFrame Correlation Map\n",
    "\n",
    "This shows that the variables are all only weakly correlated with one another, if at all. This demonstrates suitability for the Naive Bayes Classifier Model. "
   ]
  },
  {
   "cell_type": "code",
   "execution_count": 60,
   "metadata": {},
   "outputs": [
    {
     "data": {
      "image/png": "[encoded data removed]",
      "text/plain": [
       "<matplotlib.figure.Figure at 0x2467f220320>"
      ]
     },
     "metadata": {},
     "output_type": "display_data"
    }
   ],
   "source": [
    "sns.heatmap(imdb.corr())\n",
    "plt.show()"
   ]
  },
  {
   "cell_type": "markdown",
   "metadata": {},
   "source": [
    "## Run The Model"
   ]
  },
  {
   "cell_type": "code",
   "execution_count": 61,
   "metadata": {
    "collapsed": true
   },
   "outputs": [],
   "source": [
    "data = imdb[words]\n",
    "target = imdb['score']"
   ]
  },
  {
   "cell_type": "code",
   "execution_count": 62,
   "metadata": {
    "collapsed": true
   },
   "outputs": [],
   "source": [
    "from sklearn.naive_bayes import BernoulliNB\n",
    "bnb = BernoulliNB()\n",
    "bnb.fit(data, target)\n",
    "y_pred = bnb.predict(data)"
   ]
  },
  {
   "cell_type": "code",
   "execution_count": 63,
   "metadata": {},
   "outputs": [
    {
     "name": "stdout",
     "output_type": "stream",
     "text": [
      "Accurate predictions of this model configured for 748 datapoints: 490\n"
     ]
    }
   ],
   "source": [
    "print('Accurate predictions of this model configured for {} datapoints: {}'.format((len(imdb)), (target==y_pred).sum()))"
   ]
  },
  {
   "cell_type": "markdown",
   "metadata": {},
   "source": [
    "### Confusion Matrix"
   ]
  },
  {
   "cell_type": "code",
   "execution_count": 64,
   "metadata": {},
   "outputs": [
    {
     "name": "stdout",
     "output_type": "stream",
     "text": [
      "[[162 224]\n",
      " [ 34 328]]\n"
     ]
    }
   ],
   "source": [
    "conf = np.array([[((target==True) & (y_pred==True)).sum(),((target==True) & (y_pred==False)).sum()],\n",
    "                 [((target==False) & (y_pred==True)).sum(),((target==False) & (y_pred==False)).sum()]])\n",
    "print(conf)\n"
   ]
  },
  {
   "cell_type": "markdown",
   "metadata": {},
   "source": [
    "### Sensitivity - defined as the percentage of positives correctly identified\n"
   ]
  },
  {
   "cell_type": "code",
   "execution_count": 65,
   "metadata": {},
   "outputs": [
    {
     "name": "stdout",
     "output_type": "stream",
     "text": [
      "Sensitivity: \n",
      " 0.906077348066\n"
     ]
    }
   ],
   "source": [
    "# Here we are defining a positive as a FALSE result (since the model is determining whether an e-mail is GENUINE) so we will \n",
    "# use that in the calculation instead of 'True':\n",
    "\n",
    "posco = ((target==True) & (y_pred==True)).sum()\n",
    "posinco = ((target==True) & (y_pred==False)).sum()\n",
    "negco = ((target==False) & (y_pred==False)).sum()\n",
    "neginco = ((target==False) & (y_pred==True)).sum()\n",
    "\n",
    "\n",
    "print('Sensitivity: \\n', negco/(negco + neginco))"
   ]
  },
  {
   "cell_type": "markdown",
   "metadata": {},
   "source": [
    "### Specificity - defined as the percentage of negatives correctly identified"
   ]
  },
  {
   "cell_type": "code",
   "execution_count": 66,
   "metadata": {},
   "outputs": [
    {
     "name": "stdout",
     "output_type": "stream",
     "text": [
      "Specificity: \n",
      " 0.419689119171\n"
     ]
    }
   ],
   "source": [
    "# Defined as the converse of sensitivity- see notes above.\n",
    "\n",
    "print('Specificity: \\n', posco/(posco + posinco))"
   ]
  },
  {
   "cell_type": "markdown",
   "metadata": {},
   "source": [
    "### Cross-Validation"
   ]
  },
  {
   "cell_type": "code",
   "execution_count": 67,
   "metadata": {},
   "outputs": [
    {
     "name": "stdout",
     "output_type": "stream",
     "text": [
      "Here is the accuracy array for this configuration: \n",
      " ['0.6164', '0.8219', '0.5342', '0.7534', '0.7260', '0.8219', '0.5479', '0.5616', '0.5068', '0.3836']\n"
     ]
    }
   ],
   "source": [
    "folds = 10\n",
    "\n",
    "size = int(len(imdb) / folds)\n",
    "\n",
    "count = 0\n",
    "\n",
    "accu_mat = []\n",
    "\n",
    "i = 1\n",
    "while i <= folds:\n",
    "\n",
    "    data = imdb[words]\n",
    "    target = imdb['score']\n",
    "     \n",
    "    train_set = data.drop([i for i in range(count, count+size)], axis=0)\n",
    "    # 'iloc' notation works OK here:\n",
    "    test_set = data.iloc[count:count+size-1,:]\n",
    "        \n",
    "    train_target = target.drop([i for i in range(count, count+size)], axis=0)\n",
    "    \n",
    "    # .....but not here:\n",
    "    #test_target = target.iloc(axis=0)[count:count+size-1,:]\n",
    "    # so code it this way instead:\n",
    "    test_target = target[count:count+size-1]\n",
    "        \n",
    "    bnb.fit(train_set, train_target)\n",
    "    y_pred = bnb.predict(test_set)\n",
    "    \n",
    "    accuracy = ((y_pred == test_target).sum()) / len(test_target)\n",
    "    \n",
    "    accu_mat.append(format(accuracy, '.4f'))\n",
    "    \n",
    "    count += size\n",
    "    i += 1\n",
    "    \n",
    "print('Here is the accuracy array for this configuration: \\n', accu_mat)\n"
   ]
  },
  {
   "cell_type": "markdown",
   "metadata": {},
   "source": [
    "### Using 1st word list:\n",
    "\n",
    "Accurate predictions of this model configured for 748 datapoints: 467\n",
    "\n",
    "Confusion Matrix\n",
    "\n",
    "[[138 248]\n",
    "\n",
    " [ 33 329]]\n",
    "\n",
    "Sensitivity - defined as the percentage of positives correctly identified: \n",
    " \n",
    " 0.908839779006\n",
    " \n",
    "Specificity - defined as the percentage of negatives correctly identified\n",
    " \n",
    " 0.357512953368\n",
    " \n",
    "Cross-Validation\n",
    "\n",
    "Here is the accuracy array for this configuration: \n",
    "\n",
    " ['0.6027', '0.8219', '0.5616', '0.7671', '0.7534', '0.7397', '0.5205', '0.5479', '0.5205', '0.3425']\n",
    " \n",
    " \n",
    "### Using 2nd word list:\n",
    "\n",
    "Accurate predictions of this model configured for 748 datapoints: 399\n",
    "\n",
    "Confusion Matrix\n",
    "\n",
    "[[59 327]\n",
    "\n",
    " [ 22 340]]\n",
    "\n",
    "Sensitivity - defined as the percentage of positives correctly identified: \n",
    "\n",
    " 0.939226519337\n",
    " \n",
    "Specificity - defined as the percentage of negatives correctly identified\n",
    " \n",
    " 0.152849740933\n",
    " \n",
    "Cross-Validation\n",
    "\n",
    "Here is the accuracy array for this configuration: \n",
    "\n",
    " ['0.4932', '0.1781', '0.4247', '0.2877', '0.3288', '0.4658', '0.4521', '0.4521', '0.4110', '0.3151'] \n",
    " \n",
    " \n",
    "### Using 3rd word list:\n",
    "\n",
    "Accurate predictions of this model configured for 748 datapoints: 490\n",
    "\n",
    "Confusion Matrix\n",
    "\n",
    "[[162 224]\n",
    "\n",
    " [ 34 328]]\n",
    "\n",
    "Sensitivity - defined as the percentage of positives correctly identified: \n",
    "\n",
    " 0.906077348066\n",
    " \n",
    "Specificity - defined as the percentage of negatives correctly identified\n",
    " \n",
    " 0.419689119171\n",
    " \n",
    "Cross-Validation\n",
    "\n",
    "Here is the accuracy array for this configuration: \n",
    "\n",
    "['0.6164', '0.8219', '0.5342', '0.7534', '0.7260', '0.8219', '0.5479', '0.5616', '0.5068', '0.3836'] \n",
    "\n",
    "\n",
    "### Using 4th word list:\n",
    "\n",
    "Accurate predictions of this model configured for 748 datapoints: 467\n",
    "\n",
    "Confusion Matrix\n",
    "\n",
    "[[378   8]\n",
    "\n",
    " [273  89]]\n",
    "\n",
    "Sensitivity - defined as the percentage of positives correctly identified: \n",
    "\n",
    " 0.245856353591\n",
    " \n",
    "Specificity - defined as the percentage of negatives correctly identified\n",
    " \n",
    " 0.979274611399\n",
    " \n",
    "Cross-Validation\n",
    "\n",
    "Here is the accuracy array for this configuration: \n",
    "\n",
    "['0.6986', '0.3151', '0.7123', '0.4932', '0.4658', '0.5068', '0.7260', '0.7123', '0.6712', '0.9041']\n",
    " \n",
    " \n",
    "### Using 5th word list:\n",
    "\n",
    "Accurate predictions of this model configured for 748 datapoints: 428\n",
    "\n",
    "Confusion Matrix\n",
    "\n",
    "[[381   5]\n",
    "\n",
    " [315  47]]\n",
    "\n",
    "Sensitivity - defined as the percentage of positives correctly identified: \n",
    "\n",
    " 0.129834254144\n",
    " \n",
    "Specificity - defined as the percentage of negatives correctly identified\n",
    " \n",
    " 0.987046632124\n",
    " \n",
    "Cross-Validation\n",
    "\n",
    "Here is the accuracy array for this configuration: \n",
    "\n",
    "['0.5616', '0.3288', '0.6712', '0.3425', '0.3836', '0.5342', '0.6849', '0.6438', '0.6986', '0.8219']\n",
    "\n",
    "\n",
    "### Using 6th word list:\n",
    "\n",
    "Accurate predictions of this model configured for 748 datapoints: 500\n",
    "\n",
    "Confusion Matrix\n",
    "\n",
    "[[377   9]\n",
    "\n",
    " [239 123]]\n",
    "\n",
    "Sensitivity - defined as the percentage of positives correctly identified: \n",
    "\n",
    " 0.339779005525\n",
    " \n",
    "Specificity - defined as the percentage of negatives correctly identified\n",
    " \n",
    " 0.976683937824\n",
    " \n",
    "Cross-Validation\n",
    "\n",
    "Here is the accuracy array for this configuration: \n",
    "\n",
    " ['0.6986', '0.4247', '0.7123', '0.5068', '0.5068', '0.5890', '0.7808', '0.7123', '0.7671', '0.9178']"
   ]
  },
  {
   "cell_type": "code",
   "execution_count": null,
   "metadata": {
    "collapsed": true
   },
   "outputs": [],
   "source": []
  }
 ],
 "metadata": {
  "kernelspec": {
   "display_name": "Python 3",
   "language": "python",
   "name": "python3"
  },
  "language_info": {
   "codemirror_mode": {
    "name": "ipython",
    "version": 3
   },
   "file_extension": ".py",
   "mimetype": "text/x-python",
   "name": "python",
   "nbconvert_exporter": "python",
   "pygments_lexer": "ipython3",
   "version": "3.6.2"
  }
 },
 "nbformat": 4,
 "nbformat_minor": 2
}
