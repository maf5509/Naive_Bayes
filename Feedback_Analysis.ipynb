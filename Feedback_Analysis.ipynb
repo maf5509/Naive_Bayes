{
 "cells": [
  {
   "cell_type": "code",
   "execution_count": 115,
   "metadata": {
    "collapsed": true
   },
   "outputs": [],
   "source": [
    "%matplotlib inline\n",
    "import numpy as np\n",
    "import pandas as pd\n",
    "import math\n",
    "import matplotlib.pyplot as plt\n",
    "import seaborn as sns\n",
    "import scipy\n",
    "import sklearn"
   ]
  },
  {
   "cell_type": "markdown",
   "metadata": {},
   "source": [
    "## Preliminary Data Management"
   ]
  },
  {
   "cell_type": "code",
   "execution_count": 116,
   "metadata": {
    "collapsed": true,
    "scrolled": true
   },
   "outputs": [],
   "source": [
    "yelp = pd.read_table('C://Users//fergu//sentiment_labelled_sentences//yelp_labelled.txt', header=None)"
   ]
  },
  {
   "cell_type": "code",
   "execution_count": 117,
   "metadata": {
    "collapsed": true
   },
   "outputs": [],
   "source": [
    "yelp.columns=['comment', 'score']"
   ]
  },
  {
   "cell_type": "code",
   "execution_count": 118,
   "metadata": {},
   "outputs": [
    {
     "data": {
      "text/plain": [
       "(1000, 2)"
      ]
     },
     "execution_count": 118,
     "metadata": {},
     "output_type": "execute_result"
    }
   ],
   "source": [
    "yelp.shape"
   ]
  },
  {
   "cell_type": "code",
   "execution_count": 119,
   "metadata": {},
   "outputs": [
    {
     "data": {
      "text/html": [
       "<div>\n",
       "<style>\n",
       "    .dataframe thead tr:only-child th {\n",
       "        text-align: right;\n",
       "    }\n",
       "\n",
       "    .dataframe thead th {\n",
       "        text-align: left;\n",
       "    }\n",
       "\n",
       "    .dataframe tbody tr th {\n",
       "        vertical-align: top;\n",
       "    }\n",
       "</style>\n",
       "<table border=\"1\" class=\"dataframe\">\n",
       "  <thead>\n",
       "    <tr style=\"text-align: right;\">\n",
       "      <th></th>\n",
       "      <th>comment</th>\n",
       "      <th>score</th>\n",
       "    </tr>\n",
       "  </thead>\n",
       "  <tbody>\n",
       "    <tr>\n",
       "      <th>0</th>\n",
       "      <td>Wow... Loved this place.</td>\n",
       "      <td>1</td>\n",
       "    </tr>\n",
       "    <tr>\n",
       "      <th>1</th>\n",
       "      <td>Crust is not good.</td>\n",
       "      <td>0</td>\n",
       "    </tr>\n",
       "    <tr>\n",
       "      <th>2</th>\n",
       "      <td>Not tasty and the texture was just nasty.</td>\n",
       "      <td>0</td>\n",
       "    </tr>\n",
       "    <tr>\n",
       "      <th>3</th>\n",
       "      <td>Stopped by during the late May bank holiday of...</td>\n",
       "      <td>1</td>\n",
       "    </tr>\n",
       "    <tr>\n",
       "      <th>4</th>\n",
       "      <td>The selection on the menu was great and so wer...</td>\n",
       "      <td>1</td>\n",
       "    </tr>\n",
       "  </tbody>\n",
       "</table>\n",
       "</div>"
      ],
      "text/plain": [
       "                                             comment  score\n",
       "0                           Wow... Loved this place.      1\n",
       "1                                 Crust is not good.      0\n",
       "2          Not tasty and the texture was just nasty.      0\n",
       "3  Stopped by during the late May bank holiday of...      1\n",
       "4  The selection on the menu was great and so wer...      1"
      ]
     },
     "execution_count": 119,
     "metadata": {},
     "output_type": "execute_result"
    }
   ],
   "source": [
    "yelp.head()"
   ]
  },
  {
   "cell_type": "markdown",
   "metadata": {},
   "source": [
    "## Select Words for Use In Classifier\n",
    "\n",
    "The starting dataset chosen was the 'yelp' dataset. As expected, the words selected were adjectives that one would expect to see in a positive review, such as 'great', awesome', 'excellent', etc. A few of the words chosen, such as 'delicious' or 'friendly', would apply to service industries but not to movie or most product reviews. Some experimentation was done with the use of repeated exclamation marks, or question marks, but these were not found to be of much predictive value. Some words that were clearly not very useful were discarded although the final list of words was not rigorously vetted in this way."
   ]
  },
  {
   "cell_type": "code",
   "execution_count": 120,
   "metadata": {
    "collapsed": true
   },
   "outputs": [],
   "source": [
    "words = ['great', 'happy', 'awesome', 'fabulous', 'value', 'sweet', 'fantastic', 'loved', 'good', \n",
    "         'fast', 'amazing', 'pleased', 'impressed', 'excellent', 'really good', 'delicious', \n",
    "         'nice', 'friendly', 'beautiful', 'brilliant']#, 'saved', 'love']"
   ]
  },
  {
   "cell_type": "markdown",
   "metadata": {},
   "source": [
    "## Create Table of Boolean Columns and convert Score to Boolean"
   ]
  },
  {
   "cell_type": "code",
   "execution_count": 121,
   "metadata": {
    "collapsed": true
   },
   "outputs": [],
   "source": [
    "for word in words:\n",
    "    yelp[word] = [True if word.lower() in yelp['comment'][j].lower() else False for j in range(0, len(yelp['comment']))]"
   ]
  },
  {
   "cell_type": "code",
   "execution_count": 122,
   "metadata": {
    "collapsed": true
   },
   "outputs": [],
   "source": [
    "yelp['score'] = [True if yelp['score'][i] == 1 else False for i in range(0, len(yelp['score']))]"
   ]
  },
  {
   "cell_type": "code",
   "execution_count": 123,
   "metadata": {},
   "outputs": [
    {
     "data": {
      "text/html": [
       "<div>\n",
       "<style>\n",
       "    .dataframe thead tr:only-child th {\n",
       "        text-align: right;\n",
       "    }\n",
       "\n",
       "    .dataframe thead th {\n",
       "        text-align: left;\n",
       "    }\n",
       "\n",
       "    .dataframe tbody tr th {\n",
       "        vertical-align: top;\n",
       "    }\n",
       "</style>\n",
       "<table border=\"1\" class=\"dataframe\">\n",
       "  <thead>\n",
       "    <tr style=\"text-align: right;\">\n",
       "      <th></th>\n",
       "      <th>comment</th>\n",
       "      <th>score</th>\n",
       "      <th>great</th>\n",
       "      <th>happy</th>\n",
       "      <th>awesome</th>\n",
       "      <th>fabulous</th>\n",
       "      <th>value</th>\n",
       "      <th>sweet</th>\n",
       "      <th>fantastic</th>\n",
       "      <th>loved</th>\n",
       "      <th>...</th>\n",
       "      <th>amazing</th>\n",
       "      <th>pleased</th>\n",
       "      <th>impressed</th>\n",
       "      <th>excellent</th>\n",
       "      <th>really good</th>\n",
       "      <th>delicious</th>\n",
       "      <th>nice</th>\n",
       "      <th>friendly</th>\n",
       "      <th>beautiful</th>\n",
       "      <th>brilliant</th>\n",
       "    </tr>\n",
       "  </thead>\n",
       "  <tbody>\n",
       "    <tr>\n",
       "      <th>0</th>\n",
       "      <td>Wow... Loved this place.</td>\n",
       "      <td>True</td>\n",
       "      <td>False</td>\n",
       "      <td>False</td>\n",
       "      <td>False</td>\n",
       "      <td>False</td>\n",
       "      <td>False</td>\n",
       "      <td>False</td>\n",
       "      <td>False</td>\n",
       "      <td>True</td>\n",
       "      <td>...</td>\n",
       "      <td>False</td>\n",
       "      <td>False</td>\n",
       "      <td>False</td>\n",
       "      <td>False</td>\n",
       "      <td>False</td>\n",
       "      <td>False</td>\n",
       "      <td>False</td>\n",
       "      <td>False</td>\n",
       "      <td>False</td>\n",
       "      <td>False</td>\n",
       "    </tr>\n",
       "    <tr>\n",
       "      <th>1</th>\n",
       "      <td>Crust is not good.</td>\n",
       "      <td>False</td>\n",
       "      <td>False</td>\n",
       "      <td>False</td>\n",
       "      <td>False</td>\n",
       "      <td>False</td>\n",
       "      <td>False</td>\n",
       "      <td>False</td>\n",
       "      <td>False</td>\n",
       "      <td>False</td>\n",
       "      <td>...</td>\n",
       "      <td>False</td>\n",
       "      <td>False</td>\n",
       "      <td>False</td>\n",
       "      <td>False</td>\n",
       "      <td>False</td>\n",
       "      <td>False</td>\n",
       "      <td>False</td>\n",
       "      <td>False</td>\n",
       "      <td>False</td>\n",
       "      <td>False</td>\n",
       "    </tr>\n",
       "    <tr>\n",
       "      <th>2</th>\n",
       "      <td>Not tasty and the texture was just nasty.</td>\n",
       "      <td>False</td>\n",
       "      <td>False</td>\n",
       "      <td>False</td>\n",
       "      <td>False</td>\n",
       "      <td>False</td>\n",
       "      <td>False</td>\n",
       "      <td>False</td>\n",
       "      <td>False</td>\n",
       "      <td>False</td>\n",
       "      <td>...</td>\n",
       "      <td>False</td>\n",
       "      <td>False</td>\n",
       "      <td>False</td>\n",
       "      <td>False</td>\n",
       "      <td>False</td>\n",
       "      <td>False</td>\n",
       "      <td>False</td>\n",
       "      <td>False</td>\n",
       "      <td>False</td>\n",
       "      <td>False</td>\n",
       "    </tr>\n",
       "    <tr>\n",
       "      <th>3</th>\n",
       "      <td>Stopped by during the late May bank holiday of...</td>\n",
       "      <td>True</td>\n",
       "      <td>False</td>\n",
       "      <td>False</td>\n",
       "      <td>False</td>\n",
       "      <td>False</td>\n",
       "      <td>False</td>\n",
       "      <td>False</td>\n",
       "      <td>False</td>\n",
       "      <td>True</td>\n",
       "      <td>...</td>\n",
       "      <td>False</td>\n",
       "      <td>False</td>\n",
       "      <td>False</td>\n",
       "      <td>False</td>\n",
       "      <td>False</td>\n",
       "      <td>False</td>\n",
       "      <td>False</td>\n",
       "      <td>False</td>\n",
       "      <td>False</td>\n",
       "      <td>False</td>\n",
       "    </tr>\n",
       "    <tr>\n",
       "      <th>4</th>\n",
       "      <td>The selection on the menu was great and so wer...</td>\n",
       "      <td>True</td>\n",
       "      <td>True</td>\n",
       "      <td>False</td>\n",
       "      <td>False</td>\n",
       "      <td>False</td>\n",
       "      <td>False</td>\n",
       "      <td>False</td>\n",
       "      <td>False</td>\n",
       "      <td>False</td>\n",
       "      <td>...</td>\n",
       "      <td>False</td>\n",
       "      <td>False</td>\n",
       "      <td>False</td>\n",
       "      <td>False</td>\n",
       "      <td>False</td>\n",
       "      <td>False</td>\n",
       "      <td>False</td>\n",
       "      <td>False</td>\n",
       "      <td>False</td>\n",
       "      <td>False</td>\n",
       "    </tr>\n",
       "  </tbody>\n",
       "</table>\n",
       "<p>5 rows × 22 columns</p>\n",
       "</div>"
      ],
      "text/plain": [
       "                                             comment  score  great  happy  \\\n",
       "0                           Wow... Loved this place.   True  False  False   \n",
       "1                                 Crust is not good.  False  False  False   \n",
       "2          Not tasty and the texture was just nasty.  False  False  False   \n",
       "3  Stopped by during the late May bank holiday of...   True  False  False   \n",
       "4  The selection on the menu was great and so wer...   True   True  False   \n",
       "\n",
       "   awesome  fabulous  value  sweet  fantastic  loved    ...      amazing  \\\n",
       "0    False     False  False  False      False   True    ...        False   \n",
       "1    False     False  False  False      False  False    ...        False   \n",
       "2    False     False  False  False      False  False    ...        False   \n",
       "3    False     False  False  False      False   True    ...        False   \n",
       "4    False     False  False  False      False  False    ...        False   \n",
       "\n",
       "   pleased  impressed  excellent  really good  delicious   nice  friendly  \\\n",
       "0    False      False      False        False      False  False     False   \n",
       "1    False      False      False        False      False  False     False   \n",
       "2    False      False      False        False      False  False     False   \n",
       "3    False      False      False        False      False  False     False   \n",
       "4    False      False      False        False      False  False     False   \n",
       "\n",
       "   beautiful  brilliant  \n",
       "0      False      False  \n",
       "1      False      False  \n",
       "2      False      False  \n",
       "3      False      False  \n",
       "4      False      False  \n",
       "\n",
       "[5 rows x 22 columns]"
      ]
     },
     "execution_count": 123,
     "metadata": {},
     "output_type": "execute_result"
    }
   ],
   "source": [
    "yelp.head()"
   ]
  },
  {
   "cell_type": "markdown",
   "metadata": {},
   "source": [
    "## Heatmap of DataFrame Correlation Map\n",
    "\n",
    "This shows that the variables are all only weakly correlated with one another, if at all. This demonstrates suitability for the Naive Bayes Classifier Model. "
   ]
  },
  {
   "cell_type": "code",
   "execution_count": 124,
   "metadata": {},
   "outputs": [
    {
     "data": {
      "image/png": "[encoded data removed]",
      "text/plain": [
       "<matplotlib.figure.Figure at 0x1c07b794ef0>"
      ]
     },
     "metadata": {},
     "output_type": "display_data"
    }
   ],
   "source": [
    "sns.heatmap(yelp.corr())\n",
    "plt.show()"
   ]
  },
  {
   "cell_type": "markdown",
   "metadata": {},
   "source": [
    "## Run The Model"
   ]
  },
  {
   "cell_type": "code",
   "execution_count": 125,
   "metadata": {
    "collapsed": true
   },
   "outputs": [],
   "source": [
    "data = yelp[words]\n",
    "target = yelp['score']"
   ]
  },
  {
   "cell_type": "code",
   "execution_count": 126,
   "metadata": {
    "collapsed": true
   },
   "outputs": [],
   "source": [
    "from sklearn.naive_bayes import BernoulliNB\n",
    "bnb = BernoulliNB()\n",
    "bnb.fit(data, target)\n",
    "y_pred = bnb.predict(data)"
   ]
  },
  {
   "cell_type": "code",
   "execution_count": 127,
   "metadata": {},
   "outputs": [
    {
     "name": "stdout",
     "output_type": "stream",
     "text": [
      "Accurate predictions of this model configured for 1000 datapoints: 735\n"
     ]
    }
   ],
   "source": [
    "print('Accurate predictions of this model configured for {} datapoints: {}'.format((len(yelp)), (target==y_pred).sum()))"
   ]
  },
  {
   "cell_type": "markdown",
   "metadata": {},
   "source": [
    "### Confusion Matrix"
   ]
  },
  {
   "cell_type": "code",
   "execution_count": 128,
   "metadata": {},
   "outputs": [
    {
     "name": "stdout",
     "output_type": "stream",
     "text": [
      "[[268 232]\n",
      " [ 33 467]]\n"
     ]
    }
   ],
   "source": [
    "conf = np.array([[((target==True) & (y_pred==True)).sum(),((target==True) & (y_pred==False)).sum()],\n",
    "                 [((target==False) & (y_pred==True)).sum(),((target==False) & (y_pred==False)).sum()]])\n",
    "print(conf)\n"
   ]
  },
  {
   "cell_type": "markdown",
   "metadata": {},
   "source": [
    "### Sensitivity - defined as the percentage of positives correctly identified\n"
   ]
  },
  {
   "cell_type": "code",
   "execution_count": 129,
   "metadata": {},
   "outputs": [
    {
     "name": "stdout",
     "output_type": "stream",
     "text": [
      "Sensitivity: \n",
      " 0.934\n"
     ]
    }
   ],
   "source": [
    "# Here we are defining a positive as a FALSE result (since the model is determining whether an e-mail is GENUINE) so we will \n",
    "# use that in the calculation instead of 'True':\n",
    "\n",
    "posco = ((target==True) & (y_pred==True)).sum()\n",
    "posinco = ((target==True) & (y_pred==False)).sum()\n",
    "negco = ((target==False) & (y_pred==False)).sum()\n",
    "neginco = ((target==False) & (y_pred==True)).sum()\n",
    "\n",
    "\n",
    "print('Sensitivity: \\n', negco/(negco + neginco))"
   ]
  },
  {
   "cell_type": "markdown",
   "metadata": {},
   "source": [
    "### Specificity - defined as the percentage of negatives correctly identified"
   ]
  },
  {
   "cell_type": "code",
   "execution_count": 130,
   "metadata": {},
   "outputs": [
    {
     "name": "stdout",
     "output_type": "stream",
     "text": [
      "Specificity: \n",
      " 0.536\n"
     ]
    }
   ],
   "source": [
    "# Defined as the converse of sensitivity- see notes above.\n",
    "\n",
    "print('Specificity: \\n', posco/(posco + posinco))"
   ]
  },
  {
   "cell_type": "code",
   "execution_count": 131,
   "metadata": {},
   "outputs": [
    {
     "data": {
      "text/html": [
       "<div>\n",
       "<style>\n",
       "    .dataframe thead tr:only-child th {\n",
       "        text-align: right;\n",
       "    }\n",
       "\n",
       "    .dataframe thead th {\n",
       "        text-align: left;\n",
       "    }\n",
       "\n",
       "    .dataframe tbody tr th {\n",
       "        vertical-align: top;\n",
       "    }\n",
       "</style>\n",
       "<table border=\"1\" class=\"dataframe\">\n",
       "  <thead>\n",
       "    <tr style=\"text-align: right;\">\n",
       "      <th></th>\n",
       "      <th>col1</th>\n",
       "      <th>col2</th>\n",
       "      <th>col3</th>\n",
       "      <th>col4</th>\n",
       "    </tr>\n",
       "  </thead>\n",
       "  <tbody>\n",
       "    <tr>\n",
       "      <th>0</th>\n",
       "      <td>2</td>\n",
       "      <td>6</td>\n",
       "      <td>3</td>\n",
       "      <td>8</td>\n",
       "    </tr>\n",
       "    <tr>\n",
       "      <th>1</th>\n",
       "      <td>5</td>\n",
       "      <td>7</td>\n",
       "      <td>5</td>\n",
       "      <td>6</td>\n",
       "    </tr>\n",
       "    <tr>\n",
       "      <th>2</th>\n",
       "      <td>1</td>\n",
       "      <td>1</td>\n",
       "      <td>2</td>\n",
       "      <td>7</td>\n",
       "    </tr>\n",
       "    <tr>\n",
       "      <th>3</th>\n",
       "      <td>9</td>\n",
       "      <td>3</td>\n",
       "      <td>9</td>\n",
       "      <td>1</td>\n",
       "    </tr>\n",
       "    <tr>\n",
       "      <th>4</th>\n",
       "      <td>6</td>\n",
       "      <td>9</td>\n",
       "      <td>8</td>\n",
       "      <td>8</td>\n",
       "    </tr>\n",
       "  </tbody>\n",
       "</table>\n",
       "</div>"
      ],
      "text/plain": [
       "   col1  col2  col3  col4\n",
       "0     2     6     3     8\n",
       "1     5     7     5     6\n",
       "2     1     1     2     7\n",
       "3     9     3     9     1\n",
       "4     6     9     8     8"
      ]
     },
     "execution_count": 131,
     "metadata": {},
     "output_type": "execute_result"
    }
   ],
   "source": [
    "testdf = pd.DataFrame({'col1': [1,2,3,4,5], 'col2': [6,7,1,3,9], 'col3': [3,5,2,9,8], 'col4': [8,6,7,1,8], 'col1': [2,5,1,9,6]})\n",
    "testdf"
   ]
  },
  {
   "cell_type": "code",
   "execution_count": 132,
   "metadata": {},
   "outputs": [
    {
     "data": {
      "text/html": [
       "<div>\n",
       "<style>\n",
       "    .dataframe thead tr:only-child th {\n",
       "        text-align: right;\n",
       "    }\n",
       "\n",
       "    .dataframe thead th {\n",
       "        text-align: left;\n",
       "    }\n",
       "\n",
       "    .dataframe tbody tr th {\n",
       "        vertical-align: top;\n",
       "    }\n",
       "</style>\n",
       "<table border=\"1\" class=\"dataframe\">\n",
       "  <thead>\n",
       "    <tr style=\"text-align: right;\">\n",
       "      <th></th>\n",
       "      <th>col1</th>\n",
       "      <th>col2</th>\n",
       "      <th>col3</th>\n",
       "      <th>col4</th>\n",
       "    </tr>\n",
       "  </thead>\n",
       "  <tbody>\n",
       "    <tr>\n",
       "      <th>0</th>\n",
       "      <td>2</td>\n",
       "      <td>6</td>\n",
       "      <td>3</td>\n",
       "      <td>8</td>\n",
       "    </tr>\n",
       "    <tr>\n",
       "      <th>1</th>\n",
       "      <td>5</td>\n",
       "      <td>7</td>\n",
       "      <td>5</td>\n",
       "      <td>6</td>\n",
       "    </tr>\n",
       "    <tr>\n",
       "      <th>2</th>\n",
       "      <td>1</td>\n",
       "      <td>1</td>\n",
       "      <td>2</td>\n",
       "      <td>7</td>\n",
       "    </tr>\n",
       "  </tbody>\n",
       "</table>\n",
       "</div>"
      ],
      "text/plain": [
       "   col1  col2  col3  col4\n",
       "0     2     6     3     8\n",
       "1     5     7     5     6\n",
       "2     1     1     2     7"
      ]
     },
     "execution_count": 132,
     "metadata": {},
     "output_type": "execute_result"
    }
   ],
   "source": [
    "x = 0\n",
    "y = 1\n",
    "testdf.iloc[x:y+2, :]"
   ]
  },
  {
   "cell_type": "code",
   "execution_count": 143,
   "metadata": {},
   "outputs": [
    {
     "name": "stdout",
     "output_type": "stream",
     "text": [
      "Here is the accuracy array for this configuration: \n",
      " ['0.6566', '0.6970', '0.7172', '0.7172', '0.6970', '0.7475', '0.7273', '0.6970', '0.7677', '0.9192']\n"
     ]
    }
   ],
   "source": [
    "folds = 10\n",
    "\n",
    "size = int(len(yelp) / folds)\n",
    "\n",
    "count = 0\n",
    "\n",
    "accu_mat = []\n",
    "\n",
    "i = 1\n",
    "while i <= folds:\n",
    "\n",
    "    data = yelp[words]\n",
    "    target = yelp['score']\n",
    "     \n",
    "    train_set = data.drop([i for i in range(count, count+size)], axis=0)\n",
    "    # 'iloc' notation works OK here:\n",
    "    test_set = data.iloc[count:count+size-1,:]\n",
    "        \n",
    "    train_target = target.drop([i for i in range(count, count+size)], axis=0)\n",
    "    \n",
    "    # .....but not here:\n",
    "    #test_target = target.iloc(axis=0)[count:count+size-1,:]\n",
    "    # so code it this way instead:\n",
    "    test_target = target[count:count+size-1]\n",
    "        \n",
    "    bnb.fit(train_set, train_target)\n",
    "    y_pred = bnb.predict(test_set)\n",
    "    \n",
    "    accuracy = ((y_pred == test_target).sum()) / len(test_target)\n",
    "    \n",
    "    accu_mat.append(format(accuracy, '.4f'))\n",
    "    \n",
    "    count += size\n",
    "    i += 1\n",
    "    \n",
    "print('Here is the accuracy array for this configuration: \\n', accu_mat)\n"
   ]
  },
  {
   "cell_type": "markdown",
   "metadata": {},
   "source": [
    "## Apply The Model To Other Datasets\n",
    "\n",
    "The model gave a 69.5% accuracy for the Amazon data, which is almost as good as for the training dataset (73.5%). For the IMDB data, however, the accuracy drops to only 59.4%. If re-training the model for the IMDB data, one would want to add some words that better relate to a viewed experience, than a product. Examples of such words include: gripping, action-packed, touching, dramatic, fascinating, spellbinding."
   ]
  },
  {
   "cell_type": "code",
   "execution_count": 16,
   "metadata": {
    "collapsed": true
   },
   "outputs": [],
   "source": [
    "other_data = ['amazon', 'imdb']"
   ]
  },
  {
   "cell_type": "code",
   "execution_count": 17,
   "metadata": {},
   "outputs": [
    {
     "data": {
      "image/png": "[encoded data removed]",
      "text/plain": [
       "<matplotlib.figure.Figure at 0x1c07ad3ec88>"
      ]
     },
     "metadata": {},
     "output_type": "display_data"
    },
    {
     "name": "stdout",
     "output_type": "stream",
     "text": [
      "Accurate predictions of this model configured for the amazon data having 1000 datapoints: 695\n"
     ]
    },
    {
     "data": {
      "image/png": "[encoded data removed]",
      "text/plain": [
       "<matplotlib.figure.Figure at 0x1c07ab8cb70>"
      ]
     },
     "metadata": {},
     "output_type": "display_data"
    },
    {
     "name": "stdout",
     "output_type": "stream",
     "text": [
      "Accurate predictions of this model configured for the imdb data having 748 datapoints: 444\n"
     ]
    }
   ],
   "source": [
    "for i in range(0, len(other_data)):\n",
    "    filename = other_data[i] +'.txt'\n",
    "    #tablename = other_data[i] + '_data'\n",
    "    path = 'C://Users//fergu//sentiment_labelled_sentences//' + filename\n",
    "    df=pd.read_table(path, header=None)\n",
    "    df.columns = ['comment', 'score']\n",
    "    \n",
    "    for word in words:\n",
    "        df[word] = [True if word.lower() in df['comment'][j].lower() \n",
    "                           else False for j in range(0, len(df['comment']))]  \n",
    "        \n",
    "    df['score'] = [True if df['score'][i] == 1 else False for i \n",
    "                          in range(0, len(df['score']))]    \n",
    "        \n",
    "    sns.heatmap(df.corr())\n",
    "    plt.show()\n",
    "    \n",
    "    data = df[words]\n",
    "    target = df['score']\n",
    "    \n",
    "    bnb.fit(data, target)\n",
    "    y_pred = bnb.predict(data)\n",
    "    \n",
    "    print('Accurate predictions of this model configured for the {} data having {} datapoints: {}'\n",
    "          .format(other_data[i], (len(df)), (target==y_pred).sum()))\n"
   ]
  }
 ],
 "metadata": {
  "kernelspec": {
   "display_name": "Python 3",
   "language": "python",
   "name": "python3"
  },
  "language_info": {
   "codemirror_mode": {
    "name": "ipython",
    "version": 3
   },
   "file_extension": ".py",
   "mimetype": "text/x-python",
   "name": "python",
   "nbconvert_exporter": "python",
   "pygments_lexer": "ipython3",
   "version": "3.6.2"
  }
 },
 "nbformat": 4,
 "nbformat_minor": 2
}
